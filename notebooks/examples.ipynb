{
 "cells": [
  {
   "cell_type": "code",
   "execution_count": null,
   "id": "3147bc80",
   "metadata": {},
   "outputs": [],
   "source": [
    "import pandas as pd"
   ]
  },
  {
   "cell_type": "code",
   "execution_count": null,
   "id": "efaf4123",
   "metadata": {},
   "outputs": [],
   "source": [
    "test_dataframe = pd.DataFrame({\n",
    "    \"int_col\" : [1, 2, 3],\n",
    "    \"float_col\" : [1.1, 2.2, 3.3],\n",
    "    \"bool_col\" : [True, False, True],\n",
    "    \"string_col\" : [\"pippo\", \"pluto\", \"paperino\"],\n",
    "    \"time_col\" : pd.date_range(start=\"2024-01-01\", periods=3, freq = \"12H\"),\n",
    "})\n",
    "test_dataframe[\"date_col\"] = pd.to_datetime(test_dataframe[\"time_col\"]).dt.date\n",
    "test_dataframe"
   ]
  },
  {
   "cell_type": "markdown",
   "id": "20d100e5",
   "metadata": {},
   "source": [
    "# Excel"
   ]
  },
  {
   "cell_type": "code",
   "execution_count": null,
   "id": "29ba6fcc",
   "metadata": {},
   "outputs": [],
   "source": [
    "test_dataframe.to_excel(\"/opt/data/test.xlsx\", index = False)\n",
    "pd.read_excel(\"/opt/data/test.xlsx\")"
   ]
  },
  {
   "cell_type": "markdown",
   "id": "bdf112d0",
   "metadata": {},
   "source": [
    "# Parquet"
   ]
  },
  {
   "cell_type": "code",
   "execution_count": null,
   "id": "57623224",
   "metadata": {},
   "outputs": [],
   "source": [
    "test_dataframe"
   ]
  },
  {
   "cell_type": "code",
   "execution_count": null,
   "id": "d1ac2186",
   "metadata": {},
   "outputs": [],
   "source": [
    "test_dataframe.to_parquet(\"/opt/data/test.parquet\", index = False)\n",
    "pd.read_parquet(\"/opt/data/test.parquet\")"
   ]
  },
  {
   "cell_type": "markdown",
   "id": "b93a5ffa",
   "metadata": {},
   "source": [
    "# Postgres\n",
    "For this to work make sure the docker service `pg_db` is running"
   ]
  },
  {
   "cell_type": "code",
   "execution_count": null,
   "id": "b6bd5adc",
   "metadata": {},
   "outputs": [],
   "source": [
    "from src.config import conf\n",
    "from sqlalchemy import create_engine\n",
    "\n",
    "username = conf.sql_login.username\n",
    "password = conf.sql_login.password.get_secret_value()\n",
    "database = conf.sql_connection.db_name\n",
    "server_name = \"pg_db\""
   ]
  },
  {
   "cell_type": "code",
   "execution_count": null,
   "id": "56004110",
   "metadata": {},
   "outputs": [],
   "source": [
    "engine = create_engine(f\"postgresql://{username}:{password}@{server_name}:5432/{database}\")\n",
    "test_dataframe.to_sql(\"test_dataframe\", engine, index=False, if_exists=\"replace\")"
   ]
  },
  {
   "cell_type": "code",
   "execution_count": null,
   "id": "9941ee62",
   "metadata": {},
   "outputs": [],
   "source": [
    "pd.read_sql(\"test_dataframe\", engine)"
   ]
  }
 ],
 "metadata": {
  "kernelspec": {
   "display_name": "Python 3 (ipykernel)",
   "language": "python",
   "name": "python3"
  },
  "language_info": {
   "codemirror_mode": {
    "name": "ipython",
    "version": 3
   },
   "file_extension": ".py",
   "mimetype": "text/x-python",
   "name": "python",
   "nbconvert_exporter": "python",
   "pygments_lexer": "ipython3",
   "version": "3.9.5"
  }
 },
 "nbformat": 4,
 "nbformat_minor": 5
}
