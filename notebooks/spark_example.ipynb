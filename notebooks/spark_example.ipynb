{
 "cells": [
  {
   "cell_type": "markdown",
   "id": "45ebd170",
   "metadata": {},
   "source": [
    "# Imports"
   ]
  },
  {
   "cell_type": "code",
   "execution_count": null,
   "id": "6054a989",
   "metadata": {},
   "outputs": [],
   "source": [
    "from src.config import conf\n",
    "\n",
    "import pyspark.sql.functions as func\n",
    "from src.utils.spark import spark, sqlContext\n",
    "import pandas as pd"
   ]
  },
  {
   "cell_type": "code",
   "execution_count": null,
   "id": "3d8c789f",
   "metadata": {},
   "outputs": [],
   "source": [
    "pdf = pd.DataFrame(\n",
    "    {\n",
    "        \"int_col\": [1, 2, 3],\n",
    "        \"float_col\": [1.1, 2.2, 3.3],\n",
    "        \"bool_col\": [True, False, True],\n",
    "        \"string_col\": [\"pippo\", \"pluto\", \"paperino\"],\n",
    "        \"time_col\": pd.date_range(start=\"2024-01-01\", periods=3, freq=\"12H\"),\n",
    "    }\n",
    ")\n",
    "pdf[\"date_col\"] = pd.to_datetime(pdf[\"time_col\"]).dt.date"
   ]
  },
  {
   "cell_type": "code",
   "execution_count": null,
   "id": "ca390457",
   "metadata": {},
   "outputs": [],
   "source": [
    "# read from file\n",
    "df = spark.createDataFrame(pdf)\n",
    "df.createOrReplaceTempView(\"table_df\")\n",
    "sqlContext.cacheTable(\"table_df\")\n",
    "df.count()"
   ]
  },
  {
   "cell_type": "code",
   "execution_count": null,
   "id": "2e1a9e13",
   "metadata": {},
   "outputs": [],
   "source": [
    "df.toPandas()"
   ]
  },
  {
   "cell_type": "markdown",
   "id": "37116bbd",
   "metadata": {},
   "source": [
    "# Write to database"
   ]
  },
  {
   "cell_type": "code",
   "execution_count": null,
   "id": "21d0c77d",
   "metadata": {},
   "outputs": [],
   "source": [
    "db_url = f\"jdbc:postgresql://{conf.sql_connection.server}:{conf.sql_connection.port}/{conf.sql_connection.db_name}\"\n",
    "db_url"
   ]
  },
  {
   "cell_type": "code",
   "execution_count": null,
   "id": "2d7643ca",
   "metadata": {},
   "outputs": [],
   "source": [
    "(\n",
    "    df.write.format(\"jdbc\")\n",
    "    .option(\"url\", db_url)\n",
    "    .option(\"driver\", \"org.postgresql.Driver\")\n",
    "    .option(\"dbtable\", \"POSTGRES_TABLE\")\n",
    "    .option(\"user\", conf.sql_login.username)\n",
    "    .option(\"password\", conf.sql_login.password.get_secret_value())\n",
    "    .mode(\"overwrite\")\n",
    "    .save()\n",
    ")"
   ]
  },
  {
   "cell_type": "markdown",
   "id": "799a79d6",
   "metadata": {},
   "source": [
    "# Read from database"
   ]
  },
  {
   "cell_type": "code",
   "execution_count": null,
   "id": "9f075d81",
   "metadata": {},
   "outputs": [],
   "source": [
    "loaded_df = (\n",
    "    spark.read.format(\"jdbc\")\n",
    "    .option(\"url\", db_url)\n",
    "    .option(\"driver\", \"org.postgresql.Driver\")\n",
    "    .option(\"dbtable\", \"POSTGRES_TABLE\")\n",
    "    .option(\"user\", conf.sql_login.username)\n",
    "    .option(\"password\", conf.sql_login.password.get_secret_value())\n",
    "    .load()\n",
    ")"
   ]
  },
  {
   "cell_type": "code",
   "execution_count": null,
   "id": "4656d542",
   "metadata": {},
   "outputs": [],
   "source": [
    "loaded_df.toPandas()"
   ]
  },
  {
   "cell_type": "markdown",
   "id": "292212aa",
   "metadata": {},
   "source": [
    "# Write to S3\n",
    "Note that here, S3 crendetials have been defined in spark session config at `src/utils/spark.py`"
   ]
  },
  {
   "cell_type": "code",
   "execution_count": null,
   "id": "ff8336de",
   "metadata": {},
   "outputs": [],
   "source": [
    "file_path = f\"s3a://{conf.s3_creds.bucket_name}/dummy_test.parquet\"\n",
    "file_path"
   ]
  },
  {
   "cell_type": "code",
   "execution_count": null,
   "id": "5495fba0",
   "metadata": {},
   "outputs": [],
   "source": [
    "df.write.parquet(file_path, mode=\"overwrite\")"
   ]
  },
  {
   "cell_type": "code",
   "execution_count": null,
   "id": "444527da",
   "metadata": {},
   "outputs": [],
   "source": [
    "loaded_df = spark.read.parquet(file_path)"
   ]
  },
  {
   "cell_type": "code",
   "execution_count": null,
   "id": "dddbcc8e",
   "metadata": {},
   "outputs": [],
   "source": [
    "loaded_df.toPandas()"
   ]
  }
 ],
 "metadata": {
  "kernelspec": {
   "display_name": "Python 3 (ipykernel)",
   "language": "python",
   "name": "python3"
  },
  "language_info": {
   "codemirror_mode": {
    "name": "ipython",
    "version": 3
   },
   "file_extension": ".py",
   "mimetype": "text/x-python",
   "name": "python",
   "nbconvert_exporter": "python",
   "pygments_lexer": "ipython3",
   "version": "3.11.0rc1"
  },
  "toc": {
   "base_numbering": 1,
   "nav_menu": {},
   "number_sections": true,
   "sideBar": true,
   "skip_h1_title": false,
   "title_cell": "Table of Contents",
   "title_sidebar": "Contents",
   "toc_cell": false,
   "toc_position": {},
   "toc_section_display": true,
   "toc_window_display": false
  },
  "varInspector": {
   "cols": {
    "lenName": 16,
    "lenType": 16,
    "lenVar": 40
   },
   "kernels_config": {
    "python": {
     "delete_cmd_postfix": "",
     "delete_cmd_prefix": "del ",
     "library": "var_list.py",
     "varRefreshCmd": "print(var_dic_list())"
    },
    "r": {
     "delete_cmd_postfix": ") ",
     "delete_cmd_prefix": "rm(",
     "library": "var_list.r",
     "varRefreshCmd": "cat(var_dic_list()) "
    }
   },
   "types_to_exclude": [
    "module",
    "function",
    "builtin_function_or_method",
    "instance",
    "_Feature"
   ],
   "window_display": false
  }
 },
 "nbformat": 4,
 "nbformat_minor": 5
}
